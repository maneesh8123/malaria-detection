{
 "cells": [
  {
   "cell_type": "code",
   "execution_count": 1,
   "metadata": {},
   "outputs": [
    {
     "name": "stderr",
     "output_type": "stream",
     "text": [
      "C:\\ProgramData\\Anaconda3\\lib\\site-packages\\tensorflow\\python\\framework\\dtypes.py:516: FutureWarning: Passing (type, 1) or '1type' as a synonym of type is deprecated; in a future version of numpy, it will be understood as (type, (1,)) / '(1,)type'.\n",
      "  _np_qint8 = np.dtype([(\"qint8\", np.int8, 1)])\n",
      "C:\\ProgramData\\Anaconda3\\lib\\site-packages\\tensorflow\\python\\framework\\dtypes.py:517: FutureWarning: Passing (type, 1) or '1type' as a synonym of type is deprecated; in a future version of numpy, it will be understood as (type, (1,)) / '(1,)type'.\n",
      "  _np_quint8 = np.dtype([(\"quint8\", np.uint8, 1)])\n",
      "C:\\ProgramData\\Anaconda3\\lib\\site-packages\\tensorflow\\python\\framework\\dtypes.py:518: FutureWarning: Passing (type, 1) or '1type' as a synonym of type is deprecated; in a future version of numpy, it will be understood as (type, (1,)) / '(1,)type'.\n",
      "  _np_qint16 = np.dtype([(\"qint16\", np.int16, 1)])\n",
      "C:\\ProgramData\\Anaconda3\\lib\\site-packages\\tensorflow\\python\\framework\\dtypes.py:519: FutureWarning: Passing (type, 1) or '1type' as a synonym of type is deprecated; in a future version of numpy, it will be understood as (type, (1,)) / '(1,)type'.\n",
      "  _np_quint16 = np.dtype([(\"quint16\", np.uint16, 1)])\n",
      "C:\\ProgramData\\Anaconda3\\lib\\site-packages\\tensorflow\\python\\framework\\dtypes.py:520: FutureWarning: Passing (type, 1) or '1type' as a synonym of type is deprecated; in a future version of numpy, it will be understood as (type, (1,)) / '(1,)type'.\n",
      "  _np_qint32 = np.dtype([(\"qint32\", np.int32, 1)])\n",
      "C:\\ProgramData\\Anaconda3\\lib\\site-packages\\tensorflow\\python\\framework\\dtypes.py:525: FutureWarning: Passing (type, 1) or '1type' as a synonym of type is deprecated; in a future version of numpy, it will be understood as (type, (1,)) / '(1,)type'.\n",
      "  np_resource = np.dtype([(\"resource\", np.ubyte, 1)])\n",
      "C:\\ProgramData\\Anaconda3\\lib\\site-packages\\tensorboard\\compat\\tensorflow_stub\\dtypes.py:541: FutureWarning: Passing (type, 1) or '1type' as a synonym of type is deprecated; in a future version of numpy, it will be understood as (type, (1,)) / '(1,)type'.\n",
      "  _np_qint8 = np.dtype([(\"qint8\", np.int8, 1)])\n",
      "C:\\ProgramData\\Anaconda3\\lib\\site-packages\\tensorboard\\compat\\tensorflow_stub\\dtypes.py:542: FutureWarning: Passing (type, 1) or '1type' as a synonym of type is deprecated; in a future version of numpy, it will be understood as (type, (1,)) / '(1,)type'.\n",
      "  _np_quint8 = np.dtype([(\"quint8\", np.uint8, 1)])\n",
      "C:\\ProgramData\\Anaconda3\\lib\\site-packages\\tensorboard\\compat\\tensorflow_stub\\dtypes.py:543: FutureWarning: Passing (type, 1) or '1type' as a synonym of type is deprecated; in a future version of numpy, it will be understood as (type, (1,)) / '(1,)type'.\n",
      "  _np_qint16 = np.dtype([(\"qint16\", np.int16, 1)])\n",
      "C:\\ProgramData\\Anaconda3\\lib\\site-packages\\tensorboard\\compat\\tensorflow_stub\\dtypes.py:544: FutureWarning: Passing (type, 1) or '1type' as a synonym of type is deprecated; in a future version of numpy, it will be understood as (type, (1,)) / '(1,)type'.\n",
      "  _np_quint16 = np.dtype([(\"quint16\", np.uint16, 1)])\n",
      "C:\\ProgramData\\Anaconda3\\lib\\site-packages\\tensorboard\\compat\\tensorflow_stub\\dtypes.py:545: FutureWarning: Passing (type, 1) or '1type' as a synonym of type is deprecated; in a future version of numpy, it will be understood as (type, (1,)) / '(1,)type'.\n",
      "  _np_qint32 = np.dtype([(\"qint32\", np.int32, 1)])\n",
      "C:\\ProgramData\\Anaconda3\\lib\\site-packages\\tensorboard\\compat\\tensorflow_stub\\dtypes.py:550: FutureWarning: Passing (type, 1) or '1type' as a synonym of type is deprecated; in a future version of numpy, it will be understood as (type, (1,)) / '(1,)type'.\n",
      "  np_resource = np.dtype([(\"resource\", np.ubyte, 1)])\n",
      "Using TensorFlow backend.\n"
     ]
    }
   ],
   "source": [
    "import tensorflow as tf\n",
    "\n",
    "from keras import  layers, models\n",
    "import matplotlib.pyplot as plt"
   ]
  },
  {
   "cell_type": "code",
   "execution_count": 2,
   "metadata": {},
   "outputs": [],
   "source": [
    "from keras.models import Model\n",
    "from keras.models import Sequential\n",
    "from keras.layers import Input, Dense, Flatten,Conv2D,MaxPooling2D\n"
   ]
  },
  {
   "cell_type": "code",
   "execution_count": 3,
   "metadata": {},
   "outputs": [
    {
     "name": "stdout",
     "output_type": "stream",
     "text": [
      "WARNING:tensorflow:From C:\\ProgramData\\Anaconda3\\lib\\site-packages\\keras\\backend\\tensorflow_backend.py:4070: The name tf.nn.max_pool is deprecated. Please use tf.nn.max_pool2d instead.\n",
      "\n",
      "Model: \"sequential_1\"\n",
      "_________________________________________________________________\n",
      "Layer (type)                 Output Shape              Param #   \n",
      "=================================================================\n",
      "conv2d_1 (Conv2D)            (None, 224, 224, 16)      208       \n",
      "_________________________________________________________________\n",
      "max_pooling2d_1 (MaxPooling2 (None, 112, 112, 16)      0         \n",
      "_________________________________________________________________\n",
      "conv2d_2 (Conv2D)            (None, 112, 112, 32)      2080      \n",
      "_________________________________________________________________\n",
      "max_pooling2d_2 (MaxPooling2 (None, 56, 56, 32)        0         \n",
      "_________________________________________________________________\n",
      "conv2d_3 (Conv2D)            (None, 56, 56, 64)        8256      \n",
      "_________________________________________________________________\n",
      "max_pooling2d_3 (MaxPooling2 (None, 28, 28, 64)        0         \n",
      "=================================================================\n",
      "Total params: 10,544\n",
      "Trainable params: 10,544\n",
      "Non-trainable params: 0\n",
      "_________________________________________________________________\n"
     ]
    }
   ],
   "source": [
    "#creating a convolutional layer\n",
    "model=Sequential()\n",
    "model.add(Conv2D(filters=16,kernel_size=2,padding=\"same\",activation=\"relu\",input_shape=(224,224,3)))\n",
    "model.add(MaxPooling2D(pool_size=2))\n",
    "model.add(Conv2D(filters=32,kernel_size=2,padding=\"same\",activation =\"relu\"))\n",
    "model.add(MaxPooling2D(pool_size=2))\n",
    "model.add(Conv2D(filters=64,kernel_size=2,padding=\"same\",activation=\"relu\"))\n",
    "model.add(MaxPooling2D(pool_size=2))\n",
    "model.summary()"
   ]
  },
  {
   "cell_type": "code",
   "execution_count": 4,
   "metadata": {},
   "outputs": [
    {
     "name": "stdout",
     "output_type": "stream",
     "text": [
      "Model: \"sequential_1\"\n",
      "_________________________________________________________________\n",
      "Layer (type)                 Output Shape              Param #   \n",
      "=================================================================\n",
      "conv2d_1 (Conv2D)            (None, 224, 224, 16)      208       \n",
      "_________________________________________________________________\n",
      "max_pooling2d_1 (MaxPooling2 (None, 112, 112, 16)      0         \n",
      "_________________________________________________________________\n",
      "conv2d_2 (Conv2D)            (None, 112, 112, 32)      2080      \n",
      "_________________________________________________________________\n",
      "max_pooling2d_2 (MaxPooling2 (None, 56, 56, 32)        0         \n",
      "_________________________________________________________________\n",
      "conv2d_3 (Conv2D)            (None, 56, 56, 64)        8256      \n",
      "_________________________________________________________________\n",
      "max_pooling2d_3 (MaxPooling2 (None, 28, 28, 64)        0         \n",
      "_________________________________________________________________\n",
      "flatten_1 (Flatten)          (None, 50176)             0         \n",
      "_________________________________________________________________\n",
      "dense_1 (Dense)              (None, 500)               25088500  \n",
      "_________________________________________________________________\n",
      "dense_2 (Dense)              (None, 2)                 1002      \n",
      "=================================================================\n",
      "Total params: 25,100,046\n",
      "Trainable params: 25,100,046\n",
      "Non-trainable params: 0\n",
      "_________________________________________________________________\n"
     ]
    }
   ],
   "source": [
    "#creating dense layer\n",
    "\n",
    "model.add(Flatten())\n",
    "model.add(Dense(500,activation=\"relu\"))\n",
    "model.add(Dense(2,activation=\"softmax\"))\n",
    "model.summary()"
   ]
  },
  {
   "cell_type": "code",
   "execution_count": 5,
   "metadata": {},
   "outputs": [],
   "source": [
    "#   cost and optimization for the model\n",
    "\n",
    "model.compile(\n",
    "  loss='categorical_crossentropy',\n",
    "  optimizer='adam',\n",
    "  metrics=['accuracy']\n",
    ")\n"
   ]
  },
  {
   "cell_type": "code",
   "execution_count": 6,
   "metadata": {},
   "outputs": [],
   "source": [
    "#  ImageDataGenerator used for preprocessing \n",
    "\n",
    "from tensorflow.keras.preprocessing.image import ImageDataGenerator\n",
    "\n",
    "train_datagen = ImageDataGenerator(rescale = 1./255,\n",
    "                                   shear_range = 0.2,\n",
    "                                   zoom_range = 0.2,\n",
    "                                   horizontal_flip = True)\n",
    "\n",
    "test_datagen = ImageDataGenerator(rescale = 1./255)"
   ]
  },
  {
   "cell_type": "code",
   "execution_count": 7,
   "metadata": {},
   "outputs": [
    {
     "name": "stdout",
     "output_type": "stream",
     "text": [
      "Found 416 images belonging to 2 classes.\n"
     ]
    }
   ],
   "source": [
    "training_set = train_datagen.flow_from_directory('Dataset/Train',\n",
    "                                                 target_size = (224, 224),\n",
    "                                                 batch_size = 32,\n",
    "                                                 class_mode = 'categorical')"
   ]
  },
  {
   "cell_type": "code",
   "execution_count": 8,
   "metadata": {},
   "outputs": [
    {
     "data": {
      "text/plain": [
       "<keras_preprocessing.image.directory_iterator.DirectoryIterator at 0xeed2388>"
      ]
     },
     "execution_count": 8,
     "metadata": {},
     "output_type": "execute_result"
    }
   ],
   "source": [
    "training_set"
   ]
  },
  {
   "cell_type": "code",
   "execution_count": 9,
   "metadata": {},
   "outputs": [
    {
     "name": "stdout",
     "output_type": "stream",
     "text": [
      "Found 134 images belonging to 2 classes.\n"
     ]
    }
   ],
   "source": [
    "test_set = test_datagen.flow_from_directory('Dataset/Test',\n",
    "                                            target_size = (224, 224),\n",
    "                                            batch_size = 32,\n",
    "                                            class_mode = 'categorical')"
   ]
  },
  {
   "cell_type": "code",
   "execution_count": 11,
   "metadata": {},
   "outputs": [
    {
     "name": "stdout",
     "output_type": "stream",
     "text": [
      "Epoch 1/50\n",
      "13/13 [==============================] - 95s 7s/step - loss: 0.6677 - accuracy: 0.5673 - val_loss: 0.6909 - val_accuracy: 0.6791\n",
      "Epoch 2/50\n",
      "13/13 [==============================] - 95s 7s/step - loss: 0.5868 - accuracy: 0.6923 - val_loss: 0.9769 - val_accuracy: 0.3507\n",
      "Epoch 3/50\n",
      "13/13 [==============================] - 90s 7s/step - loss: 0.5125 - accuracy: 0.7188 - val_loss: 1.1547 - val_accuracy: 0.3881\n",
      "Epoch 4/50\n",
      "13/13 [==============================] - 89s 7s/step - loss: 0.4562 - accuracy: 0.7692 - val_loss: 0.9715 - val_accuracy: 0.4179\n",
      "Epoch 5/50\n",
      "13/13 [==============================] - 90s 7s/step - loss: 0.4472 - accuracy: 0.7572 - val_loss: 0.7568 - val_accuracy: 0.4328\n",
      "Epoch 6/50\n",
      "13/13 [==============================] - 90s 7s/step - loss: 0.4440 - accuracy: 0.7885 - val_loss: 0.6501 - val_accuracy: 0.6493\n",
      "Epoch 7/50\n",
      "13/13 [==============================] - 90s 7s/step - loss: 0.3794 - accuracy: 0.8245 - val_loss: 1.2621 - val_accuracy: 0.5299\n",
      "Epoch 8/50\n",
      "13/13 [==============================] - 90s 7s/step - loss: 0.3313 - accuracy: 0.8582 - val_loss: 0.9478 - val_accuracy: 0.5149\n",
      "Epoch 9/50\n",
      "13/13 [==============================] - 91s 7s/step - loss: 0.2937 - accuracy: 0.8750 - val_loss: 0.6763 - val_accuracy: 0.6269\n",
      "Epoch 10/50\n",
      "13/13 [==============================] - 89s 7s/step - loss: 0.2338 - accuracy: 0.9207 - val_loss: 0.2251 - val_accuracy: 0.7910\n",
      "Epoch 11/50\n",
      "13/13 [==============================] - 89s 7s/step - loss: 0.2243 - accuracy: 0.9255 - val_loss: 0.5667 - val_accuracy: 0.6716\n",
      "Epoch 12/50\n",
      "13/13 [==============================] - 90s 7s/step - loss: 0.2934 - accuracy: 0.9014 - val_loss: 0.5124 - val_accuracy: 0.7313\n",
      "Epoch 13/50\n",
      "13/13 [==============================] - 90s 7s/step - loss: 0.1906 - accuracy: 0.9495 - val_loss: 2.4937 - val_accuracy: 0.6567\n",
      "Epoch 14/50\n",
      "13/13 [==============================] - 90s 7s/step - loss: 0.2462 - accuracy: 0.9135 - val_loss: 0.2515 - val_accuracy: 0.7164\n",
      "Epoch 15/50\n",
      "13/13 [==============================] - 90s 7s/step - loss: 0.1438 - accuracy: 0.9615 - val_loss: 0.6879 - val_accuracy: 0.8358\n",
      "Epoch 16/50\n",
      "13/13 [==============================] - 95s 7s/step - loss: 0.1287 - accuracy: 0.9543 - val_loss: 1.3680 - val_accuracy: 0.7388\n",
      "Epoch 17/50\n",
      "13/13 [==============================] - 90s 7s/step - loss: 0.1392 - accuracy: 0.9639 - val_loss: 0.1717 - val_accuracy: 0.8507\n",
      "Epoch 18/50\n",
      "13/13 [==============================] - 90s 7s/step - loss: 0.1129 - accuracy: 0.9639 - val_loss: 0.3318 - val_accuracy: 0.8582\n",
      "Epoch 19/50\n",
      "13/13 [==============================] - 90s 7s/step - loss: 0.0704 - accuracy: 0.9808 - val_loss: 0.0833 - val_accuracy: 0.8731\n",
      "Epoch 20/50\n",
      "13/13 [==============================] - 91s 7s/step - loss: 0.0950 - accuracy: 0.9663 - val_loss: 0.4824 - val_accuracy: 0.8507\n",
      "Epoch 21/50\n",
      "13/13 [==============================] - 90s 7s/step - loss: 0.0957 - accuracy: 0.9688 - val_loss: 0.4631 - val_accuracy: 0.8881\n",
      "Epoch 22/50\n",
      "13/13 [==============================] - 91s 7s/step - loss: 0.0560 - accuracy: 0.9808 - val_loss: 0.1177 - val_accuracy: 0.8284\n",
      "Epoch 23/50\n",
      "13/13 [==============================] - 90s 7s/step - loss: 0.0919 - accuracy: 0.9663 - val_loss: 0.0420 - val_accuracy: 0.8433\n",
      "Epoch 24/50\n",
      "13/13 [==============================] - 89s 7s/step - loss: 0.0591 - accuracy: 0.9760 - val_loss: 0.1141 - val_accuracy: 0.8358\n",
      "Epoch 25/50\n",
      "13/13 [==============================] - 90s 7s/step - loss: 0.0614 - accuracy: 0.9832 - val_loss: 0.9697 - val_accuracy: 0.9179\n",
      "Epoch 26/50\n",
      "13/13 [==============================] - 89s 7s/step - loss: 0.0908 - accuracy: 0.9688 - val_loss: 0.0048 - val_accuracy: 0.8657\n",
      "Epoch 27/50\n",
      "13/13 [==============================] - 90s 7s/step - loss: 0.0596 - accuracy: 0.9808 - val_loss: 0.0106 - val_accuracy: 0.8582\n",
      "Epoch 28/50\n",
      "13/13 [==============================] - 90s 7s/step - loss: 0.0953 - accuracy: 0.9712 - val_loss: 0.2449 - val_accuracy: 0.9104\n",
      "Epoch 29/50\n",
      "13/13 [==============================] - 90s 7s/step - loss: 0.0438 - accuracy: 0.9880 - val_loss: 0.4024 - val_accuracy: 0.9104\n",
      "Epoch 30/50\n",
      "13/13 [==============================] - 91s 7s/step - loss: 0.0373 - accuracy: 0.9856 - val_loss: 0.0047 - val_accuracy: 0.9104\n",
      "Epoch 31/50\n",
      "13/13 [==============================] - 89s 7s/step - loss: 0.0333 - accuracy: 0.9880 - val_loss: 0.0232 - val_accuracy: 0.9403\n",
      "Epoch 32/50\n",
      "13/13 [==============================] - 90s 7s/step - loss: 0.0845 - accuracy: 0.9760 - val_loss: 0.0102 - val_accuracy: 0.8955\n",
      "Epoch 33/50\n",
      "13/13 [==============================] - 90s 7s/step - loss: 0.0528 - accuracy: 0.9856 - val_loss: 0.0588 - val_accuracy: 0.9403\n",
      "Epoch 34/50\n",
      "13/13 [==============================] - 91s 7s/step - loss: 0.0646 - accuracy: 0.9808 - val_loss: 2.2797 - val_accuracy: 0.8433\n",
      "Epoch 35/50\n",
      "13/13 [==============================] - 90s 7s/step - loss: 0.0833 - accuracy: 0.9808 - val_loss: 0.5272 - val_accuracy: 0.8955\n",
      "Epoch 36/50\n",
      "13/13 [==============================] - 90s 7s/step - loss: 0.0554 - accuracy: 0.9808 - val_loss: 0.3368 - val_accuracy: 0.8731\n",
      "Epoch 37/50\n",
      "13/13 [==============================] - 90s 7s/step - loss: 0.0520 - accuracy: 0.9880 - val_loss: 0.0477 - val_accuracy: 0.9552\n",
      "Epoch 38/50\n",
      "13/13 [==============================] - 90s 7s/step - loss: 0.0780 - accuracy: 0.9760 - val_loss: 0.0499 - val_accuracy: 0.8881\n",
      "Epoch 39/50\n",
      "13/13 [==============================] - 90s 7s/step - loss: 0.0978 - accuracy: 0.9688 - val_loss: 0.0608 - val_accuracy: 0.8881\n",
      "Epoch 40/50\n",
      "13/13 [==============================] - 89s 7s/step - loss: 0.0348 - accuracy: 0.9928 - val_loss: 0.0065 - val_accuracy: 0.9254\n",
      "Epoch 41/50\n",
      "13/13 [==============================] - 90s 7s/step - loss: 0.0867 - accuracy: 0.9736 - val_loss: 0.2102 - val_accuracy: 0.8657\n",
      "Epoch 42/50\n",
      "13/13 [==============================] - 90s 7s/step - loss: 0.0980 - accuracy: 0.9688 - val_loss: 0.3672 - val_accuracy: 0.9254\n",
      "Epoch 43/50\n",
      "13/13 [==============================] - 91s 7s/step - loss: 0.0461 - accuracy: 0.9880 - val_loss: 0.8478 - val_accuracy: 0.8657\n",
      "Epoch 44/50\n",
      "13/13 [==============================] - 3405s 262s/step - loss: 0.0945 - accuracy: 0.9712 - val_loss: 1.1705 - val_accuracy: 0.8507\n",
      "Epoch 45/50\n",
      "13/13 [==============================] - 90s 7s/step - loss: 0.0582 - accuracy: 0.9832 - val_loss: 0.1973 - val_accuracy: 0.9478\n",
      "Epoch 46/50\n",
      "13/13 [==============================] - 92s 7s/step - loss: 0.0260 - accuracy: 0.9928 - val_loss: 0.7965 - val_accuracy: 0.9104\n",
      "Epoch 47/50\n",
      "13/13 [==============================] - 90s 7s/step - loss: 0.0445 - accuracy: 0.9904 - val_loss: 0.0688 - val_accuracy: 0.9179\n",
      "Epoch 48/50\n",
      "13/13 [==============================] - 90s 7s/step - loss: 0.0659 - accuracy: 0.9784 - val_loss: 0.1227 - val_accuracy: 0.8881\n",
      "Epoch 49/50\n",
      "13/13 [==============================] - 90s 7s/step - loss: 0.0447 - accuracy: 0.9880 - val_loss: 0.0185 - val_accuracy: 0.9328\n",
      "Epoch 50/50\n",
      "13/13 [==============================] - 92s 7s/step - loss: 0.0221 - accuracy: 0.9952 - val_loss: 9.3849e-04 - val_accuracy: 0.9328\n"
     ]
    }
   ],
   "source": [
    "#save the model histoy to hist\n",
    "hist= model.fit(\n",
    "  training_set,\n",
    "  validation_data=test_set,\n",
    "  epochs=50,\n",
    "  steps_per_epoch=len(training_set),\n",
    "  validation_steps=len(test_set)\n",
    ")"
   ]
  },
  {
   "cell_type": "code",
   "execution_count": 13,
   "metadata": {},
   "outputs": [
    {
     "data": {
      "image/png": "[encoded data removed]",
      "text/plain": [
       "<Figure size 432x288 with 1 Axes>"
      ]
     },
     "metadata": {
      "needs_background": "light"
     },
     "output_type": "display_data"
    },
    {
     "data": {
      "image/png": "[encoded data removed]",
      "text/plain": [
       "<Figure size 432x288 with 1 Axes>"
      ]
     },
     "metadata": {
      "needs_background": "light"
     },
     "output_type": "display_data"
    },
    {
     "data": {
      "text/plain": [
       "<Figure size 432x288 with 0 Axes>"
      ]
     },
     "metadata": {},
     "output_type": "display_data"
    }
   ],
   "source": [
    "plt.plot(hist.history['loss'], label='train loss')\n",
    "plt.plot(hist.history['val_loss'], label='val loss')\n",
    "plt.legend()\n",
    "plt.show()\n",
    "plt.savefig('LossVal_loss')\n",
    "\n",
    "# plot the accuracy\n",
    "plt.plot(hist.history['accuracy'], label='train acc')\n",
    "plt.plot(hist.history['val_accuracy'], label='val acc')\n",
    "plt.legend()\n",
    "plt.show()\n",
    "plt.savefig('AccVal_acc')"
   ]
  },
  {
   "cell_type": "code",
   "execution_count": 14,
   "metadata": {},
   "outputs": [
    {
     "name": "stdout",
     "output_type": "stream",
     "text": [
      "5/5 [==============================] - 8s 2s/step\n"
     ]
    }
   ],
   "source": [
    "#checking the final loss and accuracy\n",
    "score=model.evaluate(test_set)"
   ]
  },
  {
   "cell_type": "code",
   "execution_count": 15,
   "metadata": {},
   "outputs": [
    {
     "data": {
      "text/plain": [
       "[1.7685469388961792, 0.9328358173370361]"
      ]
     },
     "execution_count": 15,
     "metadata": {},
     "output_type": "execute_result"
    }
   ],
   "source": [
    "score"
   ]
  },
  {
   "cell_type": "code",
   "execution_count": 16,
   "metadata": {},
   "outputs": [
    {
     "data": {
      "text/plain": [
       "[0.5673077,\n",
       " 0.6923077,\n",
       " 0.71875,\n",
       " 0.7692308,\n",
       " 0.75721157,\n",
       " 0.78846157,\n",
       " 0.8245192,\n",
       " 0.8581731,\n",
       " 0.875,\n",
       " 0.9206731,\n",
       " 0.9254808,\n",
       " 0.9014423,\n",
       " 0.9495192,\n",
       " 0.91346157,\n",
       " 0.96153843,\n",
       " 0.9543269,\n",
       " 0.9639423,\n",
       " 0.9639423,\n",
       " 0.9807692,\n",
       " 0.96634614,\n",
       " 0.96875,\n",
       " 0.9807692,\n",
       " 0.96634614,\n",
       " 0.97596157,\n",
       " 0.9831731,\n",
       " 0.96875,\n",
       " 0.9807692,\n",
       " 0.97115386,\n",
       " 0.9879808,\n",
       " 0.9855769,\n",
       " 0.9879808,\n",
       " 0.97596157,\n",
       " 0.9855769,\n",
       " 0.9807692,\n",
       " 0.9807692,\n",
       " 0.9807692,\n",
       " 0.9879808,\n",
       " 0.97596157,\n",
       " 0.96875,\n",
       " 0.99278843,\n",
       " 0.9735577,\n",
       " 0.96875,\n",
       " 0.9879808,\n",
       " 0.97115386,\n",
       " 0.9831731,\n",
       " 0.99278843,\n",
       " 0.99038464,\n",
       " 0.97836536,\n",
       " 0.9879808,\n",
       " 0.9951923]"
      ]
     },
     "execution_count": 16,
     "metadata": {},
     "output_type": "execute_result"
    }
   ],
   "source": [
    "hist.history['accuracy']"
   ]
  },
  {
   "cell_type": "code",
   "execution_count": 17,
   "metadata": {},
   "outputs": [],
   "source": [
    "from tensorflow.keras.models import load_model\n",
    "\n",
    "model.save('model_detectt.h5')"
   ]
  },
  {
   "cell_type": "code",
   "execution_count": 18,
   "metadata": {},
   "outputs": [],
   "source": [
    "\n",
    "y_pred = model.predict(test_set)"
   ]
  },
  {
   "cell_type": "code",
   "execution_count": 19,
   "metadata": {},
   "outputs": [
    {
     "data": {
      "text/plain": [
       "array([[1.66798532e-01, 8.33201468e-01],\n",
       "       [4.03564632e-01, 5.96435368e-01],\n",
       "       [8.31353071e-04, 9.99168634e-01],\n",
       "       [7.03716796e-05, 9.99929667e-01],\n",
       "       [1.00000000e+00, 1.83010616e-15],\n",
       "       [4.10109431e-01, 5.89890540e-01],\n",
       "       [9.99999285e-01, 7.07297488e-07],\n",
       "       [1.00000000e+00, 9.36246725e-09],\n",
       "       [1.00000000e+00, 1.75054893e-14],\n",
       "       [1.00000000e+00, 2.36059368e-08],\n",
       "       [1.00000000e+00, 6.95345926e-23],\n",
       "       [1.00000000e+00, 6.76386090e-16],\n",
       "       [1.00000000e+00, 1.15822239e-27],\n",
       "       [1.00000000e+00, 1.78959105e-08],\n",
       "       [1.15862070e-02, 9.88413870e-01],\n",
       "       [1.00000000e+00, 0.00000000e+00],\n",
       "       [1.00000000e+00, 5.19853025e-16],\n",
       "       [5.18781424e-04, 9.99481261e-01],\n",
       "       [1.00000000e+00, 8.42076964e-11],\n",
       "       [2.04336568e-04, 9.99795735e-01],\n",
       "       [1.00000000e+00, 3.53720182e-08],\n",
       "       [2.55739945e-03, 9.97442603e-01],\n",
       "       [1.00462406e-03, 9.98995364e-01],\n",
       "       [9.95342970e-01, 4.65703709e-03],\n",
       "       [9.80109811e-01, 1.98902357e-02],\n",
       "       [7.18675554e-01, 2.81324416e-01],\n",
       "       [1.00000000e+00, 1.46997997e-10],\n",
       "       [1.00000000e+00, 8.84763628e-20],\n",
       "       [9.99999046e-01, 9.70764972e-07],\n",
       "       [1.62877468e-03, 9.98371303e-01],\n",
       "       [1.00000000e+00, 1.43980591e-10],\n",
       "       [9.99999762e-01, 2.88341482e-07],\n",
       "       [1.49049796e-04, 9.99850869e-01],\n",
       "       [1.00000000e+00, 1.15707155e-09],\n",
       "       [1.00000000e+00, 8.90608507e-12],\n",
       "       [1.00000000e+00, 0.00000000e+00],\n",
       "       [1.00000000e+00, 1.03762044e-15],\n",
       "       [1.00000000e+00, 1.69746445e-17],\n",
       "       [1.42593263e-03, 9.98574018e-01],\n",
       "       [9.99996066e-01, 3.95716597e-06],\n",
       "       [2.24820641e-03, 9.97751772e-01],\n",
       "       [4.17348206e-01, 5.82651794e-01],\n",
       "       [1.00000000e+00, 5.09904228e-12],\n",
       "       [9.99999881e-01, 6.37604671e-08],\n",
       "       [9.99999404e-01, 6.33449361e-07],\n",
       "       [9.41036046e-01, 5.89639470e-02],\n",
       "       [1.00000000e+00, 3.87490707e-17],\n",
       "       [1.00000000e+00, 7.89910004e-09],\n",
       "       [1.00000000e+00, 2.97614905e-10],\n",
       "       [1.00000000e+00, 0.00000000e+00],\n",
       "       [9.99975324e-01, 2.46816562e-05],\n",
       "       [1.00000000e+00, 9.36461040e-24],\n",
       "       [4.29226132e-03, 9.95707750e-01],\n",
       "       [1.00000000e+00, 0.00000000e+00],\n",
       "       [6.22551423e-04, 9.99377429e-01],\n",
       "       [2.35956255e-02, 9.76404369e-01],\n",
       "       [9.99571264e-01, 4.28676460e-04],\n",
       "       [9.99980092e-01, 1.98914040e-05],\n",
       "       [3.58334277e-04, 9.99641657e-01],\n",
       "       [1.00000000e+00, 2.23681379e-10],\n",
       "       [6.86147017e-03, 9.93138492e-01],\n",
       "       [1.00000000e+00, 3.76308940e-09],\n",
       "       [1.00000000e+00, 5.28291716e-11],\n",
       "       [9.99989271e-01, 1.07499009e-05],\n",
       "       [1.00000000e+00, 9.87101234e-11],\n",
       "       [7.84350443e-04, 9.99215603e-01],\n",
       "       [1.69281527e-01, 8.30718458e-01],\n",
       "       [1.00000000e+00, 2.97388482e-25],\n",
       "       [2.26244610e-03, 9.97737527e-01],\n",
       "       [9.96330798e-01, 3.66922864e-03],\n",
       "       [9.99999642e-01, 3.30058384e-07],\n",
       "       [3.42553278e-04, 9.99657393e-01],\n",
       "       [3.07598915e-02, 9.69240069e-01],\n",
       "       [7.36993328e-02, 9.26300704e-01],\n",
       "       [1.00000000e+00, 1.35137526e-11],\n",
       "       [9.99995947e-01, 4.05849323e-06],\n",
       "       [8.87533417e-04, 9.99112427e-01],\n",
       "       [9.34935927e-01, 6.50641173e-02],\n",
       "       [1.00000000e+00, 1.06413879e-12],\n",
       "       [9.99999762e-01, 2.55766452e-07],\n",
       "       [3.41220904e-04, 9.99658823e-01],\n",
       "       [4.93233418e-03, 9.95067596e-01],\n",
       "       [1.00000000e+00, 5.76883203e-12],\n",
       "       [3.01011000e-03, 9.96989846e-01],\n",
       "       [4.44005622e-04, 9.99556005e-01],\n",
       "       [9.99992132e-01, 7.89157275e-06],\n",
       "       [1.00000000e+00, 7.67593583e-29],\n",
       "       [1.00000000e+00, 5.51174176e-11],\n",
       "       [1.00000000e+00, 2.92998828e-12],\n",
       "       [1.38388291e-01, 8.61611724e-01],\n",
       "       [1.00000000e+00, 1.66508262e-18],\n",
       "       [1.69322724e-04, 9.99830604e-01],\n",
       "       [1.00000000e+00, 0.00000000e+00],\n",
       "       [1.00000000e+00, 1.33457431e-15],\n",
       "       [3.59064154e-03, 9.96409357e-01],\n",
       "       [1.00000000e+00, 1.75935677e-09],\n",
       "       [3.86382220e-03, 9.96136129e-01],\n",
       "       [2.60673609e-04, 9.99739349e-01],\n",
       "       [1.00000000e+00, 1.21303928e-18],\n",
       "       [1.00000000e+00, 5.72047354e-10],\n",
       "       [1.00000000e+00, 1.25641233e-22],\n",
       "       [1.64832901e-02, 9.83516753e-01],\n",
       "       [1.34046115e-02, 9.86595392e-01],\n",
       "       [9.99994040e-01, 5.99268333e-06],\n",
       "       [4.53497795e-03, 9.95465100e-01],\n",
       "       [5.71470591e-04, 9.99428451e-01],\n",
       "       [4.98591457e-04, 9.99501348e-01],\n",
       "       [4.08864144e-04, 9.99591172e-01],\n",
       "       [1.00000000e+00, 1.37213751e-08],\n",
       "       [8.63907859e-04, 9.99136150e-01],\n",
       "       [1.00000000e+00, 5.29515898e-09],\n",
       "       [1.00000000e+00, 1.55494659e-10],\n",
       "       [1.00000000e+00, 2.78678279e-21],\n",
       "       [5.98431984e-03, 9.94015694e-01],\n",
       "       [1.00000000e+00, 1.50199045e-16],\n",
       "       [3.17606091e-01, 6.82393909e-01],\n",
       "       [1.00000000e+00, 3.10626351e-12],\n",
       "       [9.99966979e-01, 3.29776740e-05],\n",
       "       [1.32897004e-01, 8.67103040e-01],\n",
       "       [1.00000000e+00, 4.06093995e-12],\n",
       "       [1.66699814e-03, 9.98333037e-01],\n",
       "       [9.99999881e-01, 8.09755321e-08],\n",
       "       [1.00000000e+00, 1.41631706e-09],\n",
       "       [9.94163215e-01, 5.83674153e-03],\n",
       "       [9.99823034e-01, 1.76980218e-04],\n",
       "       [1.00000000e+00, 5.90099671e-12],\n",
       "       [1.00000000e+00, 1.93745575e-10],\n",
       "       [1.00000000e+00, 2.11931132e-11],\n",
       "       [1.44136662e-04, 9.99855876e-01],\n",
       "       [1.00000000e+00, 3.34423765e-12],\n",
       "       [1.00000000e+00, 5.36821636e-16],\n",
       "       [2.66433251e-03, 9.97335613e-01],\n",
       "       [5.59933425e-04, 9.99440014e-01],\n",
       "       [1.00000000e+00, 2.90988532e-18]], dtype=float32)"
      ]
     },
     "execution_count": 19,
     "metadata": {},
     "output_type": "execute_result"
    }
   ],
   "source": [
    "y_pred"
   ]
  },
  {
   "cell_type": "code",
   "execution_count": 20,
   "metadata": {},
   "outputs": [],
   "source": [
    "import numpy as np\n",
    "y_pred = np.argmax(y_pred, axis=1)"
   ]
  },
  {
   "cell_type": "code",
   "execution_count": 21,
   "metadata": {},
   "outputs": [
    {
     "data": {
      "text/plain": [
       "array([1, 1, 1, 1, 0, 1, 0, 0, 0, 0, 0, 0, 0, 0, 1, 0, 0, 1, 0, 1, 0, 1,\n",
       "       1, 0, 0, 0, 0, 0, 0, 1, 0, 0, 1, 0, 0, 0, 0, 0, 1, 0, 1, 1, 0, 0,\n",
       "       0, 0, 0, 0, 0, 0, 0, 0, 1, 0, 1, 1, 0, 0, 1, 0, 1, 0, 0, 0, 0, 1,\n",
       "       1, 0, 1, 0, 0, 1, 1, 1, 0, 0, 1, 0, 0, 0, 1, 1, 0, 1, 1, 0, 0, 0,\n",
       "       0, 1, 0, 1, 0, 0, 1, 0, 1, 1, 0, 0, 0, 1, 1, 0, 1, 1, 1, 1, 0, 1,\n",
       "       0, 0, 0, 1, 0, 1, 0, 0, 1, 0, 1, 0, 0, 0, 0, 0, 0, 0, 1, 0, 0, 1,\n",
       "       1, 0], dtype=int64)"
      ]
     },
     "execution_count": 21,
     "metadata": {},
     "output_type": "execute_result"
    }
   ],
   "source": [
    "y_pred"
   ]
  },
  {
   "cell_type": "code",
   "execution_count": 22,
   "metadata": {},
   "outputs": [],
   "source": [
    "from tensorflow.keras.models import load_model\n",
    "from tensorflow.keras.preprocessing import image"
   ]
  },
  {
   "cell_type": "code",
   "execution_count": 23,
   "metadata": {},
   "outputs": [],
   "source": [
    "model=load_model('model_detectt.h5')"
   ]
  },
  {
   "cell_type": "code",
   "execution_count": 24,
   "metadata": {},
   "outputs": [],
   "source": [
    "img=image.load_img('Dataset/Test/Uninfected/2.png',target_size=(224,224))"
   ]
  },
  {
   "cell_type": "code",
   "execution_count": 25,
   "metadata": {},
   "outputs": [
    {
     "data": {
      "text/plain": [
       "array([[[0., 0., 0.],\n",
       "        [0., 0., 0.],\n",
       "        [0., 0., 0.],\n",
       "        ...,\n",
       "        [0., 0., 0.],\n",
       "        [0., 0., 0.],\n",
       "        [0., 0., 0.]],\n",
       "\n",
       "       [[0., 0., 0.],\n",
       "        [0., 0., 0.],\n",
       "        [0., 0., 0.],\n",
       "        ...,\n",
       "        [0., 0., 0.],\n",
       "        [0., 0., 0.],\n",
       "        [0., 0., 0.]],\n",
       "\n",
       "       [[0., 0., 0.],\n",
       "        [0., 0., 0.],\n",
       "        [0., 0., 0.],\n",
       "        ...,\n",
       "        [0., 0., 0.],\n",
       "        [0., 0., 0.],\n",
       "        [0., 0., 0.]],\n",
       "\n",
       "       ...,\n",
       "\n",
       "       [[0., 0., 0.],\n",
       "        [0., 0., 0.],\n",
       "        [0., 0., 0.],\n",
       "        ...,\n",
       "        [0., 0., 0.],\n",
       "        [0., 0., 0.],\n",
       "        [0., 0., 0.]],\n",
       "\n",
       "       [[0., 0., 0.],\n",
       "        [0., 0., 0.],\n",
       "        [0., 0., 0.],\n",
       "        ...,\n",
       "        [0., 0., 0.],\n",
       "        [0., 0., 0.],\n",
       "        [0., 0., 0.]],\n",
       "\n",
       "       [[0., 0., 0.],\n",
       "        [0., 0., 0.],\n",
       "        [0., 0., 0.],\n",
       "        ...,\n",
       "        [0., 0., 0.],\n",
       "        [0., 0., 0.],\n",
       "        [0., 0., 0.]]], dtype=float32)"
      ]
     },
     "execution_count": 25,
     "metadata": {},
     "output_type": "execute_result"
    }
   ],
   "source": [
    "x=image.img_to_array(img)\n",
    "x"
   ]
  },
  {
   "cell_type": "code",
   "execution_count": 26,
   "metadata": {},
   "outputs": [
    {
     "data": {
      "text/plain": [
       "(224, 224, 3)"
      ]
     },
     "execution_count": 26,
     "metadata": {},
     "output_type": "execute_result"
    }
   ],
   "source": [
    "x.shape\n"
   ]
  },
  {
   "cell_type": "code",
   "execution_count": 27,
   "metadata": {},
   "outputs": [],
   "source": [
    "x=x/255"
   ]
  },
  {
   "cell_type": "code",
   "execution_count": 28,
   "metadata": {},
   "outputs": [],
   "source": [
    "import numpy as np\n",
    "from tensorflow.keras.applications.resnet50 import preprocess_input"
   ]
  },
  {
   "cell_type": "code",
   "execution_count": 29,
   "metadata": {},
   "outputs": [
    {
     "data": {
      "text/plain": [
       "(1, 224, 224, 3)"
      ]
     },
     "execution_count": 29,
     "metadata": {},
     "output_type": "execute_result"
    }
   ],
   "source": [
    "\n",
    "\n",
    "\n",
    "x=np.expand_dims(x,axis=0)\n",
    "img_data=preprocess_input(x)\n",
    "img_data.shape"
   ]
  },
  {
   "cell_type": "code",
   "execution_count": 30,
   "metadata": {},
   "outputs": [
    {
     "data": {
      "text/plain": [
       "array([[0., 1.]], dtype=float32)"
      ]
     },
     "execution_count": 30,
     "metadata": {},
     "output_type": "execute_result"
    }
   ],
   "source": [
    "model.predict(img_data)"
   ]
  },
  {
   "cell_type": "code",
   "execution_count": 31,
   "metadata": {},
   "outputs": [
    {
     "data": {
      "text/plain": [
       "array([1], dtype=int64)"
      ]
     },
     "execution_count": 31,
     "metadata": {},
     "output_type": "execute_result"
    }
   ],
   "source": [
    "a=np.argmax(model.predict(img_data), axis=1)\n",
    "a"
   ]
  },
  {
   "cell_type": "code",
   "execution_count": 32,
   "metadata": {},
   "outputs": [
    {
     "name": "stdout",
     "output_type": "stream",
     "text": [
      "Uninfected\n"
     ]
    }
   ],
   "source": [
    "if(a==1):\n",
    "    print(\"Uninfected\")\n",
    "else:\n",
    "    print(\"Infected\")"
   ]
  },
  {
   "cell_type": "code",
   "execution_count": null,
   "metadata": {},
   "outputs": [],
   "source": []
  }
 ],
 "metadata": {
  "kernelspec": {
   "display_name": "Python 3",
   "language": "python",
   "name": "python3"
  },
  "language_info": {
   "codemirror_mode": {
    "name": "ipython",
    "version": 3
   },
   "file_extension": ".py",
   "mimetype": "text/x-python",
   "name": "python",
   "nbconvert_exporter": "python",
   "pygments_lexer": "ipython3",
   "version": "3.7.7"
  }
 },
 "nbformat": 4,
 "nbformat_minor": 4
}
